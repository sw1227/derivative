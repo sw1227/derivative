{
 "cells": [
  {
   "cell_type": "markdown",
   "metadata": {},
   "source": [
    "デリバティブ1\n",
    "=====\n",
    "\n",
    "Black-Sholesモデルからオプションの現在価値を求めたい"
   ]
  },
  {
   "cell_type": "markdown",
   "metadata": {},
   "source": [
    "## 1. 理論\n",
    "\n",
    "### 1.1 前提\n",
    "- [ブラック–ショールズ方程式 - Wikipedia](https://ja.wikipedia.org/wiki/%E3%83%96%E3%83%A9%E3%83%83%E3%82%AF%E2%80%93%E3%82%B7%E3%83%A7%E3%83%BC%E3%83%AB%E3%82%BA%E6%96%B9%E7%A8%8B%E5%BC%8F)\n",
    ">ブラック–ショールズモデルとは、1種類の配当のない株と1種類の債券の2つが存在する証券市場のモデルである。さらに連続的な取引が可能で、市場は完全市場であることを仮定している。\n",
    "\n",
    "- 参考：\n",
    "[経済数学の直観的方法 確率・統計編 (ブルーバックス)](https://www.amazon.co.jp/%E7%B5%8C%E6%B8%88%E6%95%B0%E5%AD%A6%E3%81%AE%E7%9B%B4%E8%A6%B3%E7%9A%84%E6%96%B9%E6%B3%95-%E7%A2%BA%E7%8E%87%E3%83%BB%E7%B5%B1%E8%A8%88%E7%B7%A8-%E3%83%96%E3%83%AB%E3%83%BC%E3%83%90%E3%83%83%E3%82%AF%E3%82%B9-%E9%95%B7%E6%B2%BC-%E4%BC%B8%E4%B8%80%E9%83%8E/dp/4062579855)"
   ]
  },
  {
   "cell_type": "markdown",
   "metadata": {},
   "source": [
    "### 1.2. 伊東のレンマ\n",
    "変数$x$の微小変化について以下の式が成り立つ状況を考える\n",
    "\n",
    "$$\n",
    "dx = A_1 dt + B_1 dw \\:\\:\\:\\:\\:(1)\n",
    "$$\n",
    "\n",
    "ここで、第一項は一定方向に動く成分・第二項は確率的な変動による成分である。\n",
    "\n",
    "この$x$に依存した変数$y$があり、$y = F(x)$というかたちで連動しているとき、$y$の時間変化を知ることが目的である。\n",
    "そのためには、$y$の微小変化を\n",
    "\n",
    "$$\n",
    "dy = A_2 dt + B_2 dw \\:\\:\\:\\:\\:(2)\n",
    "$$\n",
    "\n",
    "というかたちで表現できるとうれしい。\n",
    "\n",
    "Taylor展開を考えると、\n",
    "\n",
    "$$\n",
    "y + dy = F(x + dx) = F(x) + \\frac{dF}{dx} dx + \\frac{1}{2}\\frac{d^2F}{dx^2} dx^2 + \\:... \\:\\:\\:\\:\\:(3)\n",
    "$$\n",
    "\n",
    "ここで、$y = F(x)$より\n",
    "\n",
    "$$\n",
    "dy = \\frac{dF}{dx} dx + \\frac{1}{2}\\frac{d^2F}{dx^2} dx^2 + \\: ...  \\:\\:\\:\\:\\:(4)\n",
    "$$\n",
    "\n",
    "(1)を(4)に代入して\n",
    "\n",
    "$$\n",
    "dy = \\frac{dF}{dx} (A_1 dt + B_1 dw) + \\frac{1}{2}\\frac{d^2F}{dx^2} (A_1 dt + B_1 dw)^2 + \\: ... \\:\\:\\:\\:\\:(5)\n",
    "$$\n",
    "\n",
    "基本的にはここで微小変動の一次の項だけ残すことになる。\n",
    "ただし、ランダム成分$dw$は時間$t$に対して$\\sqrt{t}$で拡大するため$dw^2 = dt$であるから、$dt, dw$に加えて$dw^2$の項も$dt$と置き換えて残すこととし、\n",
    "\n",
    "$$\n",
    "dy = (\\frac{dF}{dx} A_1 + \\frac{1}{2}\\frac{d^2F}{dx^2} B_1^2) dt +   \\frac{dF}{dx} B_1 dw \\:\\:\\:\\:\\:(6)\n",
    "$$\n",
    "\n",
    "となる。今までは無視していたが、連動性$F$が時間的に変化する場合は以下のように修正する。\n",
    "\n",
    "$$\n",
    "dy = (\\frac{\\partial F}{\\partial x} A_1 + \\frac{\\partial F}{\\partial t} +  \\frac{1}{2}\\frac{\\partial^2F}{\\partial x^2} B_1^2) dt +   \\frac{\\partial F}{\\partial x} B_1 dw \\:\\:\\:\\:\\:(6)'\n",
    "$$\n",
    "\n",
    "この時点で、\n",
    "\n",
    "$$\n",
    "\\begin{eqnarray}\n",
    "  \\left\\{\n",
    "    \\begin{array}{l}\n",
    "      A_2 = (\\frac{\\partial F}{\\partial x} A_1 + \\frac{\\partial F}{\\partial t} +  \\frac{1}{2}\\frac{\\partial^2F}{\\partial x^2} B_1^2) \\:\\:\\:\\:\\:(7a) \\\\\n",
    "      B_2 =  \\frac{\\partial F}{\\partial x} B_1 \\:\\:\\:\\:\\:(7b)\n",
    "    \\end{array}\n",
    "  \\right.\n",
    "\\end{eqnarray}\n",
    "$$\n",
    "とおけば、$y$の微小変化を\n",
    "\n",
    "$$\n",
    "dy = A_2 dt + B_2 dw \\:\\:\\:\\:\\:(8)\n",
    "$$\n",
    "\n",
    "というかたちで表現できたことになる。\n"
   ]
  },
  {
   "cell_type": "markdown",
   "metadata": {},
   "source": [
    "### 1.3. Black-Sholes Model\n",
    "\n",
    "時刻$t$における株価$S_t$は、配当を無視し金利を一定とすれば、以下の確率微分方程式でモデル化できる。\n",
    "\n",
    "$$\n",
    "\\frac{dS_t}{S_t} = r dt + \\sigma dW_t  \\:\\:\\:\\:\\:(9)\n",
    "$$\n",
    "\n",
    "あるいは\n",
    "\n",
    "$$\n",
    "dS_t = (r S_t ) dt + (\\sigma S_t ) dW_t \\:\\:\\:\\:\\:(9)'\n",
    "$$\n",
    "\n",
    "※ $\\sigma$ : ボラティリティ, $r$ : ドリフト, $W_t$ : 標準ウィーナー過程\n",
    "\n",
    "#### 1.2.1. 株価$S_t$の計算\n",
    "\n",
    "(9)を$S_t$について解きたい。\n",
    "伊藤のレンマで$x=S_t, y =F(x) = log(x)$とすると、$A_1 = r S_t = r x, B_1 = \\sigma S_t = \\sigma x$と対応し、式(6)は\n",
    "\n",
    "$$\n",
    "\\begin{eqnarray}\n",
    "dy &=& (\\frac{dF}{dx} (r x) + \\frac{1}{2}\\frac{d^2F}{dx^2} (\\sigma x)^2) dt +   \\frac{dF}{dx} (\\sigma x)dW_t \\:\\:\\:\\:\\:(10a) \\\\\n",
    "   &=& (\\frac{1}{x} (r x) - \\frac{1}{2}\\frac{1}{x^2} (\\sigma x)^2) dt + \\frac{1}{x} (\\sigma x)dW_t \\:\\:\\:\\:\\:(10b) \\\\\n",
    "   &=& (r- \\frac{1}{2} \\sigma^2) dt + \\sigma dW_t \\:\\:\\:\\:\\:(10c) \n",
    "\\end{eqnarray}\n",
    "$$\n",
    "\n",
    "となる。$y=log(x)=logS_t$で記号をもとに戻すと以下のようになる。\n",
    "\n",
    "$$\n",
    "dlogS_t =  (r- \\frac{1}{2} \\sigma^2) dt + \\sigma dW_t \\:\\:\\:\\:\\:(11)\n",
    "$$\n",
    "\n",
    "(11)を$t=0$からオプション満期$T$まで積分したい。(11)の左辺については、\n",
    "$\n",
    "\\frac{dlogS_t}{dt} = \\frac{1}{S_t}\\frac{dS_t}{dt}\n",
    "$\n",
    "より\n",
    "$dlogS_t = \\frac{1}{S_t} dS_t$\n",
    "（$t$: $0$ → $T$ で $S_t$: $S_0$ → $S_T$）\n",
    "であるから、\n",
    "\n",
    "$$\n",
    "\\int_{t=0}^{t=T} dlogS_t = \\int_{S_0}^{S_T}  \\frac{1}{S_t} dS_t = logS_T - logS_0 = log \\frac{S_T}{S_0} \\:\\:\\:\\:\\:(12)\n",
    "$$\n",
    "\n",
    "また、(11)の右辺については、\n",
    "\n",
    "$$\n",
    "\\begin{eqnarray}\n",
    "\\int_{t=0}^{t=T} (r- \\frac{1}{2} \\sigma^2) dt + \\int_{t=0}^{t=T} \\sigma dW_t &=& [r- \\frac{1}{2} \\sigma^2]_0^T + \\sigma \\int_{t=0}^{t=T}  dW_t \\\\\n",
    "&=& (r- \\frac{1}{2} \\sigma^2) T + \\sigma W_t \\\\\n",
    "&=& (r- \\frac{1}{2} \\sigma^2) T + \\sigma \\sqrt{T} Z  \\:\\:\\:\\:\\:(13)\n",
    "\\end{eqnarray}\n",
    "$$\n",
    "\n",
    "ただし、$Z \\sim N(0, 1)$。\n",
    "\n",
    "$dW_t$の積分については厳密には理解できていないが、ランダム成分$dW_t$は時間$t$に対して$\\sqrt{t}$で拡大することを考えてとりあえず納得。\n",
    "\n",
    "式(12)(13)より、式(11)の積分について\n",
    "\n",
    "$$\n",
    "log \\frac{S_T}{S_0} = (r- \\frac{1}{2} \\sigma^2) T + \\sigma \\sqrt{T} Z  \\:\\:\\:\\:\\:(14)\n",
    "$$\n",
    "\n",
    "これを$S_t$について解くと、\n",
    "\n",
    "$$\n",
    "S_T = S_0 exp \\biggl\\{ (r- \\frac{1}{2} \\sigma^2) T + \\sigma \\sqrt{T} Z \\biggr\\}  \\:\\:\\:\\:\\:(14)'\n",
    "$$\n",
    "\n",
    "ここまでで、オプション満期における株価$S_T$を求めることができた。\n",
    "\n",
    "#### 1.2.2 オプションの現在価値\n",
    "> ヨーロピアン・オプションは、権利行使日（満期日）にのみ、権利行使ができるオプション取引をいいます。\n",
    "\n",
    "European optionの満期$T$でのペイオフを$f(S_T)$・行使価格Kとすると、オプションの現在価値$V$は\n",
    "\n",
    "$$\n",
    "V = e^{-rT} E(f(S_T))  \\:\\:\\:\\:\\:(15)\n",
    "$$\n",
    "\n",
    "と表現できる。（株価と行使価格の差によって得する分$f(S_T)$の期待値$E(f(S_T))$の割引現在価値）\n",
    "\n",
    "ここで、$f(S)$は\n",
    "\n",
    "- $f(S) = (S-K)^+ = max(0, S-K)$ : コールオプション\n",
    "- $f(S) = (K-S)^+ = max(0, K-S)$ : プットオプション\n",
    "\n",
    "であり、$r$は定数の無リスク利子率である。\n",
    "\n",
    "式(15)に、式(14)'の$S_T$を代入すると、コールオプションの場合は\n",
    "\n",
    "$$\n",
    "V = e^{-rT} E \\biggl[ \\biggl( S_0 exp \\biggl\\{ (r- \\frac{1}{2} \\sigma^2) T + \\sigma \\sqrt{T} Z \\biggr\\} - K \\biggr)^+ \\biggr]  \\:\\:\\:\\:\\:(16)\n",
    "$$\n",
    "\n",
    "としてオプションの現在価値を求めることができる。（ここには$K$がないので、行使価格に上乗せされる分の現在価値が(16)?）\n"
   ]
  },
  {
   "cell_type": "markdown",
   "metadata": {},
   "source": [
    "### 1.4. モンテカルロ法\n",
    "$X_i$を独立同一分布な確率変数の列とし、サンプルを$x_i$とするとき、十分大きな$N$に対して$E(X)$を\n",
    "\n",
    "$$\n",
    "E(X) \\approx \\frac{1}{N} \\sum_{i=1}^N x_i \\:\\:\\:\\:\\:(17)\n",
    "$$\n",
    "\n",
    "と近似する。\n",
    "\n",
    "オプションの現在価値の場合、$z_i$を正規分布$N(0, 1)$からのサンプルとすれば、式(16)より\n",
    "\n",
    "$$\n",
    "V \\approx \\frac{e^{-rT}}{N} \\sum_{i=1}^N  \\biggl( S_0 exp \\biggl\\{ (r- \\frac{1}{2} \\sigma^2) T + \\sigma \\sqrt{T} z_i \\biggr\\} - K\\biggr)^+  \\:\\:\\:\\:\\:(18)\n",
    "$$\n",
    "\n",
    "と近似できる。"
   ]
  },
  {
   "cell_type": "markdown",
   "metadata": {},
   "source": [
    "## 2. プログラム\n",
    "### 2.1. ガウス分布からサンプリングする関数"
   ]
  },
  {
   "cell_type": "code",
   "execution_count": 2,
   "metadata": {
    "collapsed": false
   },
   "outputs": [],
   "source": [
    "import random\n",
    "import numpy as np\n",
    "import matplotlib.pyplot as plt\n",
    "%matplotlib inline"
   ]
  },
  {
   "cell_type": "code",
   "execution_count": 3,
   "metadata": {
    "collapsed": true
   },
   "outputs": [],
   "source": [
    "def GetOneGaussianBySummation():\n",
    "    result = 0\n",
    "    for j in range(12):\n",
    "        result += random.random()\n",
    "    result -= 6\n",
    "    return result"
   ]
  },
  {
   "cell_type": "code",
   "execution_count": 4,
   "metadata": {
    "collapsed": true
   },
   "outputs": [],
   "source": [
    "def GetOneGaussianByBoxMuller():\n",
    "    while True:\n",
    "        x = 2.0 * random.random() - 1\n",
    "        y = 2.0 * random.random() - 1\n",
    "        sizeSquared = x*x + y*y\n",
    "        \n",
    "        if sizeSquared < 1.0:\n",
    "            break\n",
    "    \n",
    "    result = x * np.sqrt(-2 * np.log(sizeSquared) / sizeSquared)\n",
    "    return result"
   ]
  },
  {
   "cell_type": "code",
   "execution_count": 37,
   "metadata": {
    "collapsed": false
   },
   "outputs": [
    {
     "data": {
      "text/plain": [
       "(array([   1.,    3.,    2.,    5.,    7.,   11.,   16.,   25.,   40.,\n",
       "          47.,   71.,   83.,  122.,  147.,  213.,  242.,  274.,  333.,\n",
       "         393.,  403.,  478.,  531.,  563.,  548.,  558.,  547.,  522.,\n",
       "         511.,  521.,  443.,  409.,  366.,  311.,  284.,  222.,  211.,\n",
       "         149.,  125.,   79.,   54.,   43.,   30.,   20.,    9.,   14.,\n",
       "           6.,    3.,    3.,    1.,    1.]),\n",
       " array([-3.5811275 , -3.43734242, -3.29355735, -3.14977227, -3.0059872 ,\n",
       "        -2.86220212, -2.71841705, -2.57463197, -2.4308469 , -2.28706182,\n",
       "        -2.14327675, -1.99949168, -1.8557066 , -1.71192153, -1.56813645,\n",
       "        -1.42435138, -1.2805663 , -1.13678123, -0.99299615, -0.84921108,\n",
       "        -0.705426  , -0.56164093, -0.41785586, -0.27407078, -0.13028571,\n",
       "         0.01349937,  0.15728444,  0.30106952,  0.44485459,  0.58863967,\n",
       "         0.73242474,  0.87620982,  1.01999489,  1.16377997,  1.30756504,\n",
       "         1.45135011,  1.59513519,  1.73892026,  1.88270534,  2.02649041,\n",
       "         2.17027549,  2.31406056,  2.45784564,  2.60163071,  2.74541579,\n",
       "         2.88920086,  3.03298593,  3.17677101,  3.32055608,  3.46434116,\n",
       "         3.60812623]),\n",
       " <a list of 50 Patch objects>)"
      ]
     },
     "execution_count": 37,
     "metadata": {},
     "output_type": "execute_result"
    },
    {
     "data": {
      "image/png": "[encoded data removed]",
      "text/plain": [
       "<matplotlib.figure.Figure at 0x7f288325ca50>"
      ]
     },
     "metadata": {},
     "output_type": "display_data"
    }
   ],
   "source": [
    "# Test\n",
    "a = []\n",
    "b = []\n",
    "for i in range(10000):\n",
    "    a.append(GetOneGaussianBySummation())\n",
    "    b.append(GetOneGaussianByBoxMuller())\n",
    "plt.hist(np.array(a), alpha=0.3, bins=50)\n",
    "plt.hist(np.array(b), alpha=0.3, bins=50)"
   ]
  },
  {
   "cell_type": "markdown",
   "metadata": {},
   "source": [
    "## 2.2. メイン"
   ]
  },
  {
   "cell_type": "code",
   "execution_count": 28,
   "metadata": {
    "collapsed": false
   },
   "outputs": [],
   "source": [
    "def SimpleMonteCarlo1(expiry, strike, spot, vol, r, numberOfPaths):\n",
    "    \"\"\" コールオプションの現在価値を計算する\n",
    "    \n",
    "    - expiry: オプション満期T\n",
    "    - strike: 行使価格K\n",
    "    - spot: t=0での株価S_0\n",
    "    - vol: ボラティリティσ\n",
    "    - r: 無リスク利子率\n",
    "    - numberOfPaths: モンテカルロ法のN\n",
    "    \"\"\"\n",
    "    variance = vol * vol * expiry # σ^2 * T\n",
    "    rootVariance = np.sqrt(variance) # σ * sqrt(T)\n",
    "    itoCorrection = -0.5 * variance\n",
    "    \n",
    "    movedSpot = spot * np.exp(r*expiry + itoCorrection)\n",
    "    runningSum = 0\n",
    "    \n",
    "    for i in range(numberOfPaths):\n",
    "        thisGaussian = GetOneGaussianByBoxMuller()\n",
    "        thisSpot = movedSpot * np.exp(rootVariance * thisGaussian)\n",
    "        thisPayoff = thisSpot - strike\n",
    "        if thisPayoff <= 0:\n",
    "            thisPayoff = 0\n",
    "        runningSum += thisPayoff\n",
    "    \n",
    "    mean = runningSum / numberOfPaths\n",
    "    mean *= np.exp(-r*expiry)\n",
    "    return mean"
   ]
  },
  {
   "cell_type": "code",
   "execution_count": 36,
   "metadata": {
    "collapsed": false
   },
   "outputs": [
    {
     "name": "stdout",
     "output_type": "stream",
     "text": [
      "535.733367486\n"
     ]
    }
   ],
   "source": [
    "print SimpleMonteCarlo1(1., 1000., 900., 0.25, 1.01, 10000)"
   ]
  }
 ],
 "metadata": {
  "kernelspec": {
   "display_name": "Python 2",
   "language": "python",
   "name": "python2"
  },
  "language_info": {
   "codemirror_mode": {
    "name": "ipython",
    "version": 2
   },
   "file_extension": ".py",
   "mimetype": "text/x-python",
   "name": "python",
   "nbconvert_exporter": "python",
   "pygments_lexer": "ipython2",
   "version": "2.7.6"
  },
  "toc": {
   "colors": {
    "hover_highlight": "#DAA520",
    "running_highlight": "#FF0000",
    "selected_highlight": "#FFD700"
   },
   "moveMenuLeft": true,
   "nav_menu": {
    "height": "67px",
    "width": "252px"
   },
   "navigate_menu": true,
   "number_sections": false,
   "sideBar": true,
   "threshold": 4,
   "toc_cell": false,
   "toc_section_display": "block",
   "toc_window_display": false
  },
  "widgets": {
   "state": {},
   "version": "1.0.0"
  }
 },
 "nbformat": 4,
 "nbformat_minor": 0
}
